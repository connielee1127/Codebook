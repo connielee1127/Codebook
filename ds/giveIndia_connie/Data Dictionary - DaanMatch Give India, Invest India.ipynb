{
 "cells": [
  {
   "cell_type": "markdown",
   "id": "3629deb7",
   "metadata": {},
   "source": [
    "# Data Dictionary\n",
    "## Give India\n",
    "### Shape of Data\n",
    "244 total entries, 9 categorical descriptor variables\n",
    "### The Variables\n",
    "Names, Cause, State, Description, Phone, Address, Email, URL"
   ]
  },
  {
   "cell_type": "markdown",
   "id": "ea49089b",
   "metadata": {},
   "source": [
    "### Names"
   ]
  },
  {
   "cell_type": "markdown",
   "id": "ddb4c476",
   "metadata": {},
   "source": [
    "Data Type: string/text"
   ]
  },
  {
   "cell_type": "markdown",
   "id": "96718490",
   "metadata": {},
   "source": [
    "Description: full name of the organization"
   ]
  },
  {
   "cell_type": "markdown",
   "id": "d5bfc1da",
   "metadata": {},
   "source": [
    "### Cause"
   ]
  },
  {
   "cell_type": "markdown",
   "id": "547286d7",
   "metadata": {},
   "source": [
    "Data Type: string/text"
   ]
  },
  {
   "cell_type": "markdown",
   "id": "46c9c08b",
   "metadata": {},
   "source": [
    "Description: type of cause the organization supports  <br>\n",
    "In this dataset there are 7 different causes represented: education, children, differently abled, health, women, environment, elderly, livelihoods"
   ]
  },
  {
   "cell_type": "markdown",
   "id": "32785b66",
   "metadata": {},
   "source": [
    "Additional Information: Note that 'differently abled' is a more politically correct term for 'disabled'"
   ]
  },
  {
   "cell_type": "markdown",
   "id": "b79ac6d5",
   "metadata": {},
   "source": [
    "### State"
   ]
  },
  {
   "cell_type": "markdown",
   "id": "e1adb91f",
   "metadata": {},
   "source": [
    "Data Type: geographical"
   ]
  },
  {
   "cell_type": "markdown",
   "id": "95e4ab7e",
   "metadata": {},
   "source": [
    "Description: state/union territory in which the organization is from and is active in"
   ]
  },
  {
   "cell_type": "markdown",
   "id": "1535d3d5",
   "metadata": {},
   "source": [
    "Additional Information: PAN India refers to the entire country of India"
   ]
  },
  {
   "cell_type": "markdown",
   "id": "47ec0d1e",
   "metadata": {},
   "source": [
    "### Description"
   ]
  },
  {
   "cell_type": "markdown",
   "id": "6f5e722d",
   "metadata": {},
   "source": [
    "Data Type: string/text"
   ]
  },
  {
   "cell_type": "markdown",
   "id": "a4196167",
   "metadata": {},
   "source": [
    "Description: Textual description of core aspects of the organization, including the organization's mission and initiatives taken."
   ]
  },
  {
   "cell_type": "markdown",
   "id": "73e62fbf",
   "metadata": {},
   "source": [
    "### Phone"
   ]
  },
  {
   "cell_type": "markdown",
   "id": "77e78d09",
   "metadata": {},
   "source": [
    "Data Type: phone number"
   ]
  },
  {
   "cell_type": "markdown",
   "id": "f330e839",
   "metadata": {},
   "source": [
    "Description: Phone number of the organization; all of these numbers begin with the Indian country code +91."
   ]
  },
  {
   "cell_type": "markdown",
   "id": "0778e96e",
   "metadata": {},
   "source": [
    "Additional Information: dataset is missing two phone numbers"
   ]
  },
  {
   "cell_type": "markdown",
   "id": "e6f3dab6",
   "metadata": {},
   "source": [
    "### Address"
   ]
  },
  {
   "cell_type": "markdown",
   "id": "49e011d0",
   "metadata": {},
   "source": [
    "Data Type: geographical address"
   ]
  },
  {
   "cell_type": "markdown",
   "id": "8d932d08",
   "metadata": {},
   "source": [
    "Description: Physical address of the organization"
   ]
  },
  {
   "cell_type": "markdown",
   "id": "8b7b82e9",
   "metadata": {},
   "source": [
    "Additional Information: the dataset contains one missing address"
   ]
  },
  {
   "cell_type": "markdown",
   "id": "fdd0d644",
   "metadata": {},
   "source": [
    "### Email"
   ]
  },
  {
   "cell_type": "markdown",
   "id": "6db2c2d8",
   "metadata": {},
   "source": [
    "Data Type: email address"
   ]
  },
  {
   "cell_type": "markdown",
   "id": "ee52c56d",
   "metadata": {},
   "source": [
    "Description: Email address of the organization"
   ]
  },
  {
   "cell_type": "markdown",
   "id": "a87a5d00",
   "metadata": {},
   "source": [
    "Additional Information: the dataset is missing 5 email addresses"
   ]
  },
  {
   "cell_type": "markdown",
   "id": "984f767a",
   "metadata": {},
   "source": [
    "### URL"
   ]
  },
  {
   "cell_type": "markdown",
   "id": "146ae36b",
   "metadata": {},
   "source": [
    "Data Type: link"
   ]
  },
  {
   "cell_type": "markdown",
   "id": "c6e27502",
   "metadata": {},
   "source": [
    "Description: Link to the organization's website"
   ]
  },
  {
   "cell_type": "markdown",
   "id": "3ab12916",
   "metadata": {},
   "source": [
    "Additional Information: many of the URLs in this dataset lead to websites that can no longer be found or error when attempting to click on"
   ]
  },
  {
   "cell_type": "markdown",
   "id": "77f09be7",
   "metadata": {},
   "source": [
    "## Invest India\n",
    "### Shape of Data\n",
    "34 entries, 6 categorical descriptive variables\n",
    "### The Variables\n",
    "Name, Description, Location, Contact, Email, Phone"
   ]
  },
  {
   "cell_type": "markdown",
   "id": "4c7ae544",
   "metadata": {},
   "source": [
    "### Name\n",
    "Data Type: string/text <br>\n",
    "Description: Name of the organization\n",
    "### Description\n",
    "Data Type: string/text <br>\n",
    "Description: textual description of the organization, including historical information, accredidation information, and mission statements\n",
    "### Location\n",
    "Data Type: geographical data <br>\n",
    "Description: where in India the organization is located in <br>\n",
    "Additional Information: Most often an Indian state or union territory, but cities and PAN India(referring to the entirety of India) included\n",
    "### Contact\n",
    "Data Type: link <br>\n",
    "Description: link to website of the organization <br>\n",
    "Additional Information: some of the links are malformed or direct to websites that can no longer be found\n",
    "### Email\n",
    "Data Type: email address <br>\n",
    "Description: email address of the organization <br>\n",
    "Additional Information: Nearly 1/3rd of the addresses missing (10)\n",
    "### Phone\n",
    "Data Type: phone number <br>\n",
    "Description: phone number of the organization <br>\n",
    "Additional Information: All but one phone number missing"
   ]
  },
  {
   "cell_type": "code",
   "execution_count": null,
   "id": "e3bd3e1d",
   "metadata": {},
   "outputs": [],
   "source": []
  }
 ],
 "metadata": {
  "kernelspec": {
   "display_name": "Python 3 (ipykernel)",
   "language": "python",
   "name": "python3"
  },
  "language_info": {
   "codemirror_mode": {
    "name": "ipython",
    "version": 3
   },
   "file_extension": ".py",
   "mimetype": "text/x-python",
   "name": "python",
   "nbconvert_exporter": "python",
   "pygments_lexer": "ipython3",
   "version": "3.9.13"
  }
 },
 "nbformat": 4,
 "nbformat_minor": 5
}
